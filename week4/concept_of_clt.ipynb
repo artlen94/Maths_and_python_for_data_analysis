{
 "cells": [
  {
   "cell_type": "code",
   "execution_count": 2,
   "id": "31710de1",
   "metadata": {},
   "outputs": [],
   "source": [
    "import pandas as pd #импорт библиотек\n",
    "import numpy as np\n",
    "import matplotlib.pyplot as plt\n",
    "import scipy.stats as sts\n",
    "import seaborn as sns\n",
    "%matplotlib inline"
   ]
  },
  {
   "cell_type": "code",
   "execution_count": 3,
   "id": "560fd2a5",
   "metadata": {},
   "outputs": [],
   "source": [
    "lam = 3 #задание экспоненциального распределения случайной величины\n",
    "sigma = 1/lam\n",
    "mu = 1/lam\n",
    "expon_rv = sts.expon(loc = mu, scale = sigma)\n",
    "var = expon_rv.rvs(1000)"
   ]
  },
  {
   "cell_type": "code",
   "execution_count": 16,
   "id": "add40cde",
   "metadata": {},
   "outputs": [
    {
     "data": {
      "text/plain": [
       "(array([1.93421945, 0.96151949, 0.48075975, 0.18261417, 0.08571685,\n",
       "        0.03354138, 0.02608774, 0.01490728, 0.        , 0.00745364]),\n",
       " array([0.33353482, 0.60186011, 0.87018541, 1.1385107 , 1.40683599,\n",
       "        1.67516129, 1.94348658, 2.21181187, 2.48013717, 2.74846246,\n",
       "        3.01678775]),\n",
       " <BarContainer object of 10 artists>)"
      ]
     },
     "execution_count": 16,
     "metadata": {},
     "output_type": "execute_result"
    },
    {
     "data": {
      "image/png": "[encoded data removed]",
      "text/plain": [
       "<Figure size 432x288 with 1 Axes>"
      ]
     },
     "metadata": {
      "needs_background": "light"
     },
     "output_type": "display_data"
    }
   ],
   "source": [
    "x = np.linspace (0.4,5, 50) #построение графика функции плотности вероятности и гистограммы \n",
    "pdf = expon_rv.pdf (x)\n",
    "plt.plot (x, pdf)\n",
    "plt.hist (var, density=True)"
   ]
  },
  {
   "cell_type": "code",
   "execution_count": 3,
   "id": "ee2620f1",
   "metadata": {},
   "outputs": [],
   "source": [
    "def smc (var, sample_size, number_of_samples): #определение функции, которая описывает \"работу\" центральной предельной теоремы\n",
    "    sample_means = []\n",
    "    for i in range(number_of_samples):\n",
    "        sample = np.random.choice (var, sample_size)\n",
    "        sample_mean = np.mean (sample) \n",
    "        sample_means.append (sample_mean)\n",
    "    return sample_means"
   ]
  },
  {
   "cell_type": "code",
   "execution_count": 33,
   "id": "1dc1702c",
   "metadata": {},
   "outputs": [
    {
     "data": {
      "text/plain": [
       "(array([ 65., 194., 265., 228., 125.,  67.,  34.,  16.,   3.,   3.]),\n",
       " array([0.38974147, 0.4866851 , 0.58362874, 0.68057238, 0.77751602,\n",
       "        0.87445966, 0.97140329, 1.06834693, 1.16529057, 1.26223421,\n",
       "        1.35917785]),\n",
       " <BarContainer object of 10 artists>)"
      ]
     },
     "execution_count": 33,
     "metadata": {},
     "output_type": "execute_result"
    },
    {
     "data": {
      "image/png": "[encoded data removed]",
      "text/plain": [
       "<Figure size 432x288 with 1 Axes>"
      ]
     },
     "metadata": {
      "needs_background": "light"
     },
     "output_type": "display_data"
    }
   ],
   "source": [
    "n5 = smc (var, 5, 1000) # гистограмма 5 выборок с 1000 элементами из приведенной ранее случайно величины для проверки \"работы\" цпт \n",
    "plt.hist (n5)"
   ]
  },
  {
   "cell_type": "code",
   "execution_count": 32,
   "id": "0680bd65",
   "metadata": {},
   "outputs": [
    {
     "data": {
      "text/plain": [
       "(array([ 36., 177., 290., 243., 144.,  70.,  22.,  13.,   3.,   2.]),\n",
       " array([0.44794995, 0.52310779, 0.59826563, 0.67342347, 0.74858131,\n",
       "        0.82373915, 0.89889699, 0.97405483, 1.04921267, 1.12437051,\n",
       "        1.19952835]),\n",
       " <BarContainer object of 10 artists>)"
      ]
     },
     "execution_count": 32,
     "metadata": {},
     "output_type": "execute_result"
    },
    {
     "data": {
      "image/png": "[encoded data removed]",
      "text/plain": [
       "<Figure size 432x288 with 1 Axes>"
      ]
     },
     "metadata": {
      "needs_background": "light"
     },
     "output_type": "display_data"
    }
   ],
   "source": [
    "n10 = smc (var, 10, 1000) #гистограмма 10 выборок с 1000 элементами из приведенной ранее случайно величины для проверки \"работы\" цпт\n",
    "plt.hist (n10)"
   ]
  },
  {
   "cell_type": "code",
   "execution_count": 31,
   "id": "a7efdaac",
   "metadata": {},
   "outputs": [
    {
     "data": {
      "text/plain": [
       "(array([ 23.,  65., 166., 281., 221., 147.,  69.,  23.,   4.,   1.]),\n",
       " array([0.62373917, 0.63951471, 0.65529025, 0.67106579, 0.68684133,\n",
       "        0.70261687, 0.71839241, 0.73416795, 0.74994349, 0.76571903,\n",
       "        0.78149457]),\n",
       " <BarContainer object of 10 artists>)"
      ]
     },
     "execution_count": 31,
     "metadata": {},
     "output_type": "execute_result"
    },
    {
     "data": {
      "image/png": "[encoded data removed]",
      "text/plain": [
       "<Figure size 432x288 with 1 Axes>"
      ]
     },
     "metadata": {
      "needs_background": "light"
     },
     "output_type": "display_data"
    }
   ],
   "source": [
    "n200 = smc (var, 200, 1000) #гистограмма 200 выборок с 1000 элементами из приведенной ранее случайно величины для проверки \"работы\" цпт\n",
    "plt.hist (n200)"
   ]
  }
 ],
 "metadata": {
  "kernelspec": {
   "display_name": "Python 3 (ipykernel)",
   "language": "python",
   "name": "python3"
  },
  "language_info": {
   "codemirror_mode": {
    "name": "ipython",
    "version": 3
   },
   "file_extension": ".py",
   "mimetype": "text/x-python",
   "name": "python",
   "nbconvert_exporter": "python",
   "pygments_lexer": "ipython3",
   "version": "3.9.7"
  }
 },
 "nbformat": 4,
 "nbformat_minor": 5
}
