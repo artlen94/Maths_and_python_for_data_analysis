{
 "cells": [
  {
   "cell_type": "code",
   "execution_count": 4,
   "id": "1c8c745a",
   "metadata": {},
   "outputs": [
    {
     "name": "stdout",
     "output_type": "stream",
     "text": [
      "[0, 0.9527544408738466, 0.8644738145642124, 0.8951715163278082, 0.7770887149698589, 0.9402385695332803, 0.7327387580875756, 0.9258750683338899, 0.8842724875284311, 0.9055088817476932, 0.8328165362273942, 0.8804771390665607, 0.8396432548525454, 0.8703592552895671, 0.8740118423302576, 0.9442721787424647, 0.8406361854220809, 0.956644501523794, 0.9442721787424647, 0.8885443574849294, 0.8427572744917122, 0.8250364469440588]\n",
      "6 4\n"
     ]
    }
   ],
   "source": [
    "import re #импорт библиотек\n",
    "from scipy.spatial import distance \n",
    "unique = [] #создание пустых масивов для дальнейшего использования\n",
    "sens = []\n",
    "b = []\n",
    "file = open ('sentences.txt', 'r') #открытие файла\n",
    "for line in file:\n",
    "    sen = list (filter (None, re.split('[^a-z]', line.lower()))) #корректировка файла (привеедение к строчному регистру, занесение каждого слова в массив как отдельного элемента)\n",
    "    sens.append(sen)\n",
    "    if len(sens) != 22: #выбор последнего элемента массива sens\n",
    "        continue\n",
    "    for pred in sens: #создание массива со всеми словами из массива sens без повторений \n",
    "        for word in pred:\n",
    "            if word in unique:\n",
    "                continue\n",
    "            else:\n",
    "                unique.append(word)\n",
    "result = [[k.count(l) for l in unique ] for k in sens] #подсчет количества появлений элемент из массива sense в массиве unique\n",
    "for poz in result: \n",
    "    a = distance.cosine(result[0], poz)\n",
    "    b += [a]\n",
    "    if len(b) != 22:\n",
    "        continue\n",
    "    print (b.index(0.7327387580875756), b.index(0.7770887149698589)) #вывод индексов с минимальными значениями коссинусных расстояний\n"
   ]
  },
  {
   "cell_type": "code",
   "execution_count": null,
   "id": "4e332918",
   "metadata": {},
   "outputs": [],
   "source": []
  },
  {
   "cell_type": "code",
   "execution_count": null,
   "id": "e9ad599e",
   "metadata": {},
   "outputs": [],
   "source": []
  },
  {
   "cell_type": "code",
   "execution_count": null,
   "id": "90f8c3a5",
   "metadata": {},
   "outputs": [],
   "source": []
  },
  {
   "cell_type": "code",
   "execution_count": null,
   "id": "70f11beb",
   "metadata": {},
   "outputs": [],
   "source": []
  }
 ],
 "metadata": {
  "kernelspec": {
   "display_name": "Python 3 (ipykernel)",
   "language": "python",
   "name": "python3"
  },
  "language_info": {
   "codemirror_mode": {
    "name": "ipython",
    "version": 3
   },
   "file_extension": ".py",
   "mimetype": "text/x-python",
   "name": "python",
   "nbconvert_exporter": "python",
   "pygments_lexer": "ipython3",
   "version": "3.9.7"
  }
 },
 "nbformat": 4,
 "nbformat_minor": 5
}
