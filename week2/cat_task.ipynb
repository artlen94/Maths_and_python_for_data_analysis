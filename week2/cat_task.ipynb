{
 "cells": [
  {
   "cell_type": "code",
   "execution_count": null,
   "id": "61863566",
   "metadata": {},
   "outputs": [],
   "source": [
    "import re #импорт библиотек\n",
    "from scipy.spatial import distance \n",
    "unique = [] #создание пустых масивов для дальнейшего использования\n",
    "sens = []\n",
    "b = []\n",
    "file = open ('sentences.txt', 'r') #открытие файла\n",
    "for line in file:\n",
    "    sen = list (filter (None, re.split('[^a-z]', line.lower()))) #корректировка файла (приведение к строчному регистру, занесение каждого слова в массив как отдельного элемента)\n",
    "    sens.append(sen)\n",
    "    if len(sens) != 22: #выбор последнего элемента массива sens\n",
    "        continue\n",
    "    for pred in sens: #создание массива со всеми словами из массива sens без повторений \n",
    "        for word in pred:\n",
    "            if word in unique:\n",
    "                continue\n",
    "            else:\n",
    "                unique.append(word)\n",
    "result = [[k.count(l) for l in unique ] for k in sens] #подсчет количества появлений элемент из массива sense в массиве unique\n",
    "for poz in result: \n",
    "    a = distance.cosine(result[0], poz)\n",
    "    b += [a]\n",
    "    if len(b) != 22:\n",
    "        continue\n",
    "    print (b.index(0.7327387580875756), b.index(0.7770887149698589)) #вывод индексов с минимальными значениями коссинусных расстояний"
   ]
  }
 ],
 "metadata": {
  "kernelspec": {
   "display_name": "Python 3 (ipykernel)",
   "language": "python",
   "name": "python3"
  },
  "language_info": {
   "codemirror_mode": {
    "name": "ipython",
    "version": 3
   },
   "file_extension": ".py",
   "mimetype": "text/x-python",
   "name": "python",
   "nbconvert_exporter": "python",
   "pygments_lexer": "ipython3",
   "version": "3.9.7"
  }
 },
 "nbformat": 4,
 "nbformat_minor": 5
}
